{
 "cells": [
  {
   "cell_type": "markdown",
   "id": "84b2ee6f",
   "metadata": {},
   "source": [
    "# Machine Learning Project"
   ]
  },
  {
   "cell_type": "markdown",
   "id": "b1f216a4",
   "metadata": {},
   "source": [
    "## Project description:\n",
    "\n",
    "### Mobile carrier Megaline has found out that many of their subscribers use legacy plans. They want to develop a model that would analyze subscribers behavior and recommend one of Megaline's newer plans: Smart or Ultra. We have access to behavior data about subscribers who have already switched to the new plans.\n"
   ]
  },
  {
   "cell_type": "markdown",
   "id": "c929fa42",
   "metadata": {},
   "source": [
    "## Goal of the project:\n",
    "\n",
    "### Develop a classification model that will pick the right mobile plan with the highest possible accuracy. The threshold for accuracy is 0.75."
   ]
  },
  {
   "cell_type": "markdown",
   "id": "c52116b6",
   "metadata": {},
   "source": [
    "## Description of the data:\n",
    "##### users_behavior.csv\n",
    "#### Every observation in the dataset contains monthly behavior information about one user. The information given is as follows: \n",
    "\n",
    "- `сalls` - number of calls\n",
    "\n",
    "- `minutes` - total call duration in minutes\n",
    "\n",
    "- `messages` - number of text messages\n",
    "\n",
    "- `mb_used` - Internet traffic used in MB\n",
    "\n",
    "- `is_ultra` - plan for the current month (Ultra - 1, Smart - 0)"
   ]
  },
  {
   "cell_type": "markdown",
   "id": "844ef4a9",
   "metadata": {},
   "source": [
    "## Table of Contents:\n",
    "\n",
    "[Step 1. Data Exploration and cleaning](#Step-1.-Data-Exploration-and-cleaning)<br>\n",
    "[Step 2. Data preparation and Model selection](#Step-2.-Data-preparation-and-Model-selection)<br>\n",
    "[Step 3. Model Sanity check](#Step-3.-Model-Sanity-check)<br>\n",
    "[Conclusion](#Conclusion)"
   ]
  },
  {
   "cell_type": "markdown",
   "id": "401add4d",
   "metadata": {},
   "source": [
    "***"
   ]
  },
  {
   "cell_type": "markdown",
   "id": "ddcb8aff",
   "metadata": {},
   "source": [
    "## Step 1. Data Exploration and cleaning"
   ]
  },
  {
   "cell_type": "markdown",
   "id": "a9c7f296",
   "metadata": {},
   "source": [
    "### 1.1. Reading dataset."
   ]
  },
  {
   "cell_type": "code",
   "execution_count": 1,
   "id": "4b82a1f1",
   "metadata": {},
   "outputs": [],
   "source": [
    "#importing libraries\n",
    "import pandas as pd\n",
    "import numpy as np\n",
    "import matplotlib.pyplot as plt\n",
    "import seaborn as sns\n",
    "\n",
    "#importing sklearn modules\n",
    "from sklearn.model_selection import train_test_split, GridSearchCV\n",
    "from sklearn.metrics import accuracy_score\n",
    "from sklearn.ensemble import RandomForestClassifier\n",
    "from sklearn.tree import DecisionTreeClassifier\n",
    "from sklearn.linear_model import LogisticRegression"
   ]
  },
  {
   "cell_type": "code",
   "execution_count": 2,
   "id": "de684e36",
   "metadata": {},
   "outputs": [
    {
     "name": "stdout",
     "output_type": "stream",
     "text": [
      "File successfully read.\n",
      "<class 'pandas.core.frame.DataFrame'>\n",
      "RangeIndex: 3214 entries, 0 to 3213\n",
      "Data columns (total 5 columns):\n",
      " #   Column    Non-Null Count  Dtype  \n",
      "---  ------    --------------  -----  \n",
      " 0   calls     3214 non-null   float64\n",
      " 1   minutes   3214 non-null   float64\n",
      " 2   messages  3214 non-null   float64\n",
      " 3   mb_used   3214 non-null   float64\n",
      " 4   is_ultra  3214 non-null   int64  \n",
      "dtypes: float64(4), int64(1)\n",
      "memory usage: 125.7 KB\n"
     ]
    },
    {
     "data": {
      "text/html": [
       "<div>\n",
       "<style scoped>\n",
       "    .dataframe tbody tr th:only-of-type {\n",
       "        vertical-align: middle;\n",
       "    }\n",
       "\n",
       "    .dataframe tbody tr th {\n",
       "        vertical-align: top;\n",
       "    }\n",
       "\n",
       "    .dataframe thead th {\n",
       "        text-align: right;\n",
       "    }\n",
       "</style>\n",
       "<table border=\"1\" class=\"dataframe\">\n",
       "  <thead>\n",
       "    <tr style=\"text-align: right;\">\n",
       "      <th></th>\n",
       "      <th>calls</th>\n",
       "      <th>minutes</th>\n",
       "      <th>messages</th>\n",
       "      <th>mb_used</th>\n",
       "      <th>is_ultra</th>\n",
       "    </tr>\n",
       "  </thead>\n",
       "  <tbody>\n",
       "    <tr>\n",
       "      <th>0</th>\n",
       "      <td>40.0</td>\n",
       "      <td>311.90</td>\n",
       "      <td>83.0</td>\n",
       "      <td>19915.42</td>\n",
       "      <td>0</td>\n",
       "    </tr>\n",
       "    <tr>\n",
       "      <th>1</th>\n",
       "      <td>85.0</td>\n",
       "      <td>516.75</td>\n",
       "      <td>56.0</td>\n",
       "      <td>22696.96</td>\n",
       "      <td>0</td>\n",
       "    </tr>\n",
       "    <tr>\n",
       "      <th>2</th>\n",
       "      <td>77.0</td>\n",
       "      <td>467.66</td>\n",
       "      <td>86.0</td>\n",
       "      <td>21060.45</td>\n",
       "      <td>0</td>\n",
       "    </tr>\n",
       "    <tr>\n",
       "      <th>3</th>\n",
       "      <td>106.0</td>\n",
       "      <td>745.53</td>\n",
       "      <td>81.0</td>\n",
       "      <td>8437.39</td>\n",
       "      <td>1</td>\n",
       "    </tr>\n",
       "    <tr>\n",
       "      <th>4</th>\n",
       "      <td>66.0</td>\n",
       "      <td>418.74</td>\n",
       "      <td>1.0</td>\n",
       "      <td>14502.75</td>\n",
       "      <td>0</td>\n",
       "    </tr>\n",
       "    <tr>\n",
       "      <th>5</th>\n",
       "      <td>58.0</td>\n",
       "      <td>344.56</td>\n",
       "      <td>21.0</td>\n",
       "      <td>15823.37</td>\n",
       "      <td>0</td>\n",
       "    </tr>\n",
       "    <tr>\n",
       "      <th>6</th>\n",
       "      <td>57.0</td>\n",
       "      <td>431.64</td>\n",
       "      <td>20.0</td>\n",
       "      <td>3738.90</td>\n",
       "      <td>1</td>\n",
       "    </tr>\n",
       "    <tr>\n",
       "      <th>7</th>\n",
       "      <td>15.0</td>\n",
       "      <td>132.40</td>\n",
       "      <td>6.0</td>\n",
       "      <td>21911.60</td>\n",
       "      <td>0</td>\n",
       "    </tr>\n",
       "    <tr>\n",
       "      <th>8</th>\n",
       "      <td>7.0</td>\n",
       "      <td>43.39</td>\n",
       "      <td>3.0</td>\n",
       "      <td>2538.67</td>\n",
       "      <td>1</td>\n",
       "    </tr>\n",
       "    <tr>\n",
       "      <th>9</th>\n",
       "      <td>90.0</td>\n",
       "      <td>665.41</td>\n",
       "      <td>38.0</td>\n",
       "      <td>17358.61</td>\n",
       "      <td>0</td>\n",
       "    </tr>\n",
       "  </tbody>\n",
       "</table>\n",
       "</div>"
      ],
      "text/plain": [
       "   calls  minutes  messages   mb_used  is_ultra\n",
       "0   40.0   311.90      83.0  19915.42         0\n",
       "1   85.0   516.75      56.0  22696.96         0\n",
       "2   77.0   467.66      86.0  21060.45         0\n",
       "3  106.0   745.53      81.0   8437.39         1\n",
       "4   66.0   418.74       1.0  14502.75         0\n",
       "5   58.0   344.56      21.0  15823.37         0\n",
       "6   57.0   431.64      20.0   3738.90         1\n",
       "7   15.0   132.40       6.0  21911.60         0\n",
       "8    7.0    43.39       3.0   2538.67         1\n",
       "9   90.0   665.41      38.0  17358.61         0"
      ]
     },
     "execution_count": 2,
     "metadata": {},
     "output_type": "execute_result"
    }
   ],
   "source": [
    "#reading the \"orders_us.csv\" dataset\n",
    "try:\n",
    "  usersbhv = pd.read_csv('~/Documents/Studying/MachineLearningProject/MLProject/datasets/users_behavior.csv')\n",
    "except FileNotFoundError:\n",
    "  usersbhv = pd.read_csv('datasets/users_behavior.csv')\n",
    "except Exception as e:\n",
    "  print('An error occurred:', e)\n",
    "else:\n",
    "  print('File successfully read.')\n",
    "#showing basic dataset info\n",
    "usersbhv.info()\n",
    "usersbhv.head(10)"
   ]
  },
  {
   "cell_type": "markdown",
   "id": "e2511b5c",
   "metadata": {},
   "source": [
    "Dataset contains information about 3214 users.\n",
    "\n",
    "Users with Ultra plan are assigned as \"1\" and users with Smart plan are assigned as \"0\".\n",
    "\n",
    "#### There are no missing values and all columns are clean."
   ]
  },
  {
   "cell_type": "markdown",
   "id": "08a2c31c",
   "metadata": {},
   "source": [
    "<h3>1.2. Data Exploration</h3>"
   ]
  },
  {
   "cell_type": "code",
   "execution_count": 3,
   "id": "99da9a6d",
   "metadata": {},
   "outputs": [
    {
     "data": {
      "text/html": [
       "<div>\n",
       "<style scoped>\n",
       "    .dataframe tbody tr th:only-of-type {\n",
       "        vertical-align: middle;\n",
       "    }\n",
       "\n",
       "    .dataframe tbody tr th {\n",
       "        vertical-align: top;\n",
       "    }\n",
       "\n",
       "    .dataframe thead th {\n",
       "        text-align: right;\n",
       "    }\n",
       "</style>\n",
       "<table border=\"1\" class=\"dataframe\">\n",
       "  <thead>\n",
       "    <tr style=\"text-align: right;\">\n",
       "      <th>is_ultra</th>\n",
       "      <th>0</th>\n",
       "      <th>1</th>\n",
       "    </tr>\n",
       "  </thead>\n",
       "  <tbody>\n",
       "    <tr>\n",
       "      <th>calls</th>\n",
       "      <td>58.463437</td>\n",
       "      <td>73.392893</td>\n",
       "    </tr>\n",
       "    <tr>\n",
       "      <th>minutes</th>\n",
       "      <td>405.942952</td>\n",
       "      <td>511.224569</td>\n",
       "    </tr>\n",
       "    <tr>\n",
       "      <th>messages</th>\n",
       "      <td>33.384029</td>\n",
       "      <td>49.363452</td>\n",
       "    </tr>\n",
       "    <tr>\n",
       "      <th>mb_used</th>\n",
       "      <td>16208.466949</td>\n",
       "      <td>19468.823228</td>\n",
       "    </tr>\n",
       "  </tbody>\n",
       "</table>\n",
       "</div>"
      ],
      "text/plain": [
       "is_ultra             0             1\n",
       "calls        58.463437     73.392893\n",
       "minutes     405.942952    511.224569\n",
       "messages     33.384029     49.363452\n",
       "mb_used   16208.466949  19468.823228"
      ]
     },
     "execution_count": 3,
     "metadata": {},
     "output_type": "execute_result"
    }
   ],
   "source": [
    "#groupping users by mobile plan and calculating mean of values of each group\n",
    "usersbhv.groupby(['is_ultra']).mean().T"
   ]
  },
  {
   "cell_type": "markdown",
   "id": "a46f6069",
   "metadata": {},
   "source": [
    "Users on the Ultra plan tend to have higher average usage across all values compared to users on the Smart plan."
   ]
  },
  {
   "cell_type": "code",
   "execution_count": 4,
   "id": "5cc3549b",
   "metadata": {},
   "outputs": [
    {
     "data": {
      "text/html": [
       "<div>\n",
       "<style scoped>\n",
       "    .dataframe tbody tr th:only-of-type {\n",
       "        vertical-align: middle;\n",
       "    }\n",
       "\n",
       "    .dataframe tbody tr th {\n",
       "        vertical-align: top;\n",
       "    }\n",
       "\n",
       "    .dataframe thead th {\n",
       "        text-align: right;\n",
       "    }\n",
       "</style>\n",
       "<table border=\"1\" class=\"dataframe\">\n",
       "  <thead>\n",
       "    <tr style=\"text-align: right;\">\n",
       "      <th>is_ultra</th>\n",
       "      <th>0</th>\n",
       "      <th>1</th>\n",
       "    </tr>\n",
       "  </thead>\n",
       "  <tbody>\n",
       "    <tr>\n",
       "      <th>calls</th>\n",
       "      <td>64.319101</td>\n",
       "      <td>35.680899</td>\n",
       "    </tr>\n",
       "    <tr>\n",
       "      <th>minutes</th>\n",
       "      <td>64.246300</td>\n",
       "      <td>35.753700</td>\n",
       "    </tr>\n",
       "    <tr>\n",
       "      <th>messages</th>\n",
       "      <td>60.480672</td>\n",
       "      <td>39.519328</td>\n",
       "    </tr>\n",
       "    <tr>\n",
       "      <th>mb_used</th>\n",
       "      <td>65.325685</td>\n",
       "      <td>34.674315</td>\n",
       "    </tr>\n",
       "  </tbody>\n",
       "</table>\n",
       "</div>"
      ],
      "text/plain": [
       "is_ultra          0          1\n",
       "calls     64.319101  35.680899\n",
       "minutes   64.246300  35.753700\n",
       "messages  60.480672  39.519328\n",
       "mb_used   65.325685  34.674315"
      ]
     },
     "execution_count": 4,
     "metadata": {},
     "output_type": "execute_result"
    }
   ],
   "source": [
    "#calculating distribution by percentage by each group\n",
    "percentages = usersbhv.drop(columns = 'is_ultra').groupby(usersbhv['is_ultra']).sum() / usersbhv.drop(columns = 'is_ultra').sum() * 100\n",
    "percentages.T"
   ]
  },
  {
   "cell_type": "markdown",
   "id": "03b344c2",
   "metadata": {},
   "source": [
    "Although users on the Ultra plan tend to have higher average usage, the Smart plan likely has a significantly larger user base, leading to a greater overall contribution to the total calls, minutes, messages, and data usage (mb_used) values."
   ]
  },
  {
   "cell_type": "code",
   "execution_count": 5,
   "id": "d8adaf26",
   "metadata": {},
   "outputs": [
    {
     "name": "stdout",
     "output_type": "stream",
     "text": [
      "Basic stats for Smart plan\n"
     ]
    },
    {
     "data": {
      "text/html": [
       "<div>\n",
       "<style scoped>\n",
       "    .dataframe tbody tr th:only-of-type {\n",
       "        vertical-align: middle;\n",
       "    }\n",
       "\n",
       "    .dataframe tbody tr th {\n",
       "        vertical-align: top;\n",
       "    }\n",
       "\n",
       "    .dataframe thead th {\n",
       "        text-align: right;\n",
       "    }\n",
       "</style>\n",
       "<table border=\"1\" class=\"dataframe\">\n",
       "  <thead>\n",
       "    <tr style=\"text-align: right;\">\n",
       "      <th></th>\n",
       "      <th>calls</th>\n",
       "      <th>minutes</th>\n",
       "      <th>messages</th>\n",
       "      <th>mb_used</th>\n",
       "      <th>is_ultra</th>\n",
       "    </tr>\n",
       "  </thead>\n",
       "  <tbody>\n",
       "    <tr>\n",
       "      <th>count</th>\n",
       "      <td>2229.000000</td>\n",
       "      <td>2229.000000</td>\n",
       "      <td>2229.000000</td>\n",
       "      <td>2229.000000</td>\n",
       "      <td>2229.0</td>\n",
       "    </tr>\n",
       "    <tr>\n",
       "      <th>mean</th>\n",
       "      <td>58.463437</td>\n",
       "      <td>405.942952</td>\n",
       "      <td>33.384029</td>\n",
       "      <td>16208.466949</td>\n",
       "      <td>0.0</td>\n",
       "    </tr>\n",
       "    <tr>\n",
       "      <th>std</th>\n",
       "      <td>25.939858</td>\n",
       "      <td>184.512604</td>\n",
       "      <td>28.227876</td>\n",
       "      <td>5870.498853</td>\n",
       "      <td>0.0</td>\n",
       "    </tr>\n",
       "    <tr>\n",
       "      <th>min</th>\n",
       "      <td>0.000000</td>\n",
       "      <td>0.000000</td>\n",
       "      <td>0.000000</td>\n",
       "      <td>0.000000</td>\n",
       "      <td>0.0</td>\n",
       "    </tr>\n",
       "    <tr>\n",
       "      <th>25%</th>\n",
       "      <td>40.000000</td>\n",
       "      <td>274.230000</td>\n",
       "      <td>10.000000</td>\n",
       "      <td>12643.050000</td>\n",
       "      <td>0.0</td>\n",
       "    </tr>\n",
       "    <tr>\n",
       "      <th>50%</th>\n",
       "      <td>60.000000</td>\n",
       "      <td>410.560000</td>\n",
       "      <td>28.000000</td>\n",
       "      <td>16506.930000</td>\n",
       "      <td>0.0</td>\n",
       "    </tr>\n",
       "    <tr>\n",
       "      <th>75%</th>\n",
       "      <td>76.000000</td>\n",
       "      <td>529.510000</td>\n",
       "      <td>51.000000</td>\n",
       "      <td>20043.060000</td>\n",
       "      <td>0.0</td>\n",
       "    </tr>\n",
       "    <tr>\n",
       "      <th>max</th>\n",
       "      <td>198.000000</td>\n",
       "      <td>1390.220000</td>\n",
       "      <td>143.000000</td>\n",
       "      <td>38552.620000</td>\n",
       "      <td>0.0</td>\n",
       "    </tr>\n",
       "  </tbody>\n",
       "</table>\n",
       "</div>"
      ],
      "text/plain": [
       "             calls      minutes     messages       mb_used  is_ultra\n",
       "count  2229.000000  2229.000000  2229.000000   2229.000000    2229.0\n",
       "mean     58.463437   405.942952    33.384029  16208.466949       0.0\n",
       "std      25.939858   184.512604    28.227876   5870.498853       0.0\n",
       "min       0.000000     0.000000     0.000000      0.000000       0.0\n",
       "25%      40.000000   274.230000    10.000000  12643.050000       0.0\n",
       "50%      60.000000   410.560000    28.000000  16506.930000       0.0\n",
       "75%      76.000000   529.510000    51.000000  20043.060000       0.0\n",
       "max     198.000000  1390.220000   143.000000  38552.620000       0.0"
      ]
     },
     "metadata": {},
     "output_type": "display_data"
    },
    {
     "name": "stdout",
     "output_type": "stream",
     "text": [
      "Basic stats for Ultra plan\n"
     ]
    },
    {
     "data": {
      "text/html": [
       "<div>\n",
       "<style scoped>\n",
       "    .dataframe tbody tr th:only-of-type {\n",
       "        vertical-align: middle;\n",
       "    }\n",
       "\n",
       "    .dataframe tbody tr th {\n",
       "        vertical-align: top;\n",
       "    }\n",
       "\n",
       "    .dataframe thead th {\n",
       "        text-align: right;\n",
       "    }\n",
       "</style>\n",
       "<table border=\"1\" class=\"dataframe\">\n",
       "  <thead>\n",
       "    <tr style=\"text-align: right;\">\n",
       "      <th></th>\n",
       "      <th>calls</th>\n",
       "      <th>minutes</th>\n",
       "      <th>messages</th>\n",
       "      <th>mb_used</th>\n",
       "      <th>is_ultra</th>\n",
       "    </tr>\n",
       "  </thead>\n",
       "  <tbody>\n",
       "    <tr>\n",
       "      <th>count</th>\n",
       "      <td>985.000000</td>\n",
       "      <td>985.000000</td>\n",
       "      <td>985.000000</td>\n",
       "      <td>985.000000</td>\n",
       "      <td>985.0</td>\n",
       "    </tr>\n",
       "    <tr>\n",
       "      <th>mean</th>\n",
       "      <td>73.392893</td>\n",
       "      <td>511.224569</td>\n",
       "      <td>49.363452</td>\n",
       "      <td>19468.823228</td>\n",
       "      <td>1.0</td>\n",
       "    </tr>\n",
       "    <tr>\n",
       "      <th>std</th>\n",
       "      <td>43.916853</td>\n",
       "      <td>308.031100</td>\n",
       "      <td>47.804457</td>\n",
       "      <td>10087.178654</td>\n",
       "      <td>0.0</td>\n",
       "    </tr>\n",
       "    <tr>\n",
       "      <th>min</th>\n",
       "      <td>0.000000</td>\n",
       "      <td>0.000000</td>\n",
       "      <td>0.000000</td>\n",
       "      <td>0.000000</td>\n",
       "      <td>1.0</td>\n",
       "    </tr>\n",
       "    <tr>\n",
       "      <th>25%</th>\n",
       "      <td>41.000000</td>\n",
       "      <td>276.030000</td>\n",
       "      <td>6.000000</td>\n",
       "      <td>11770.280000</td>\n",
       "      <td>1.0</td>\n",
       "    </tr>\n",
       "    <tr>\n",
       "      <th>50%</th>\n",
       "      <td>74.000000</td>\n",
       "      <td>502.550000</td>\n",
       "      <td>38.000000</td>\n",
       "      <td>19308.010000</td>\n",
       "      <td>1.0</td>\n",
       "    </tr>\n",
       "    <tr>\n",
       "      <th>75%</th>\n",
       "      <td>104.000000</td>\n",
       "      <td>730.050000</td>\n",
       "      <td>79.000000</td>\n",
       "      <td>26837.720000</td>\n",
       "      <td>1.0</td>\n",
       "    </tr>\n",
       "    <tr>\n",
       "      <th>max</th>\n",
       "      <td>244.000000</td>\n",
       "      <td>1632.060000</td>\n",
       "      <td>224.000000</td>\n",
       "      <td>49745.730000</td>\n",
       "      <td>1.0</td>\n",
       "    </tr>\n",
       "  </tbody>\n",
       "</table>\n",
       "</div>"
      ],
      "text/plain": [
       "            calls      minutes    messages       mb_used  is_ultra\n",
       "count  985.000000   985.000000  985.000000    985.000000     985.0\n",
       "mean    73.392893   511.224569   49.363452  19468.823228       1.0\n",
       "std     43.916853   308.031100   47.804457  10087.178654       0.0\n",
       "min      0.000000     0.000000    0.000000      0.000000       1.0\n",
       "25%     41.000000   276.030000    6.000000  11770.280000       1.0\n",
       "50%     74.000000   502.550000   38.000000  19308.010000       1.0\n",
       "75%    104.000000   730.050000   79.000000  26837.720000       1.0\n",
       "max    244.000000  1632.060000  224.000000  49745.730000       1.0"
      ]
     },
     "metadata": {},
     "output_type": "display_data"
    }
   ],
   "source": [
    "#showing basic stats for each mobile plan for detailed analysis\n",
    "for group in usersbhv['is_ultra'].unique():\n",
    "    if group == 1:\n",
    "        result = 'Ultra'\n",
    "    else:\n",
    "        result = 'Smart'\n",
    "    print(\"Basic stats for\", result, \"plan\")\n",
    "    display(usersbhv[usersbhv.is_ultra == group].describe())"
   ]
  },
  {
   "cell_type": "markdown",
   "id": "14340e00",
   "metadata": {},
   "source": [
    "#### On average, Ultra users make significantly more calls than Smart users (73.39 vs. 58.46).\n",
    "\n",
    "- The distribution of calls among Ultra users is more dispersed (higher standard deviation), indicating a broader variety in calling habits. Some make very few calls, while others make many.\n",
    "\n",
    "- The median call count is also higher for Ultra users, suggesting that they are generally more active in making calls.\n",
    "\n",
    "- Ultra users spend more time on the phone, averaging 511.22 minutes compared to 405.94 minutes for Smart users.\n",
    "\n",
    "- There is a greater variation in the number of minutes used among Ultra users, reflecting diverse patterns of usage (with some users consuming much more time than others).\n",
    "\n",
    "- The median time spent on calls is also higher for Ultra users, indicating that they tend to spend more time talking.\n",
    "- Ultra users send more messages on average (49.36 vs. 33.38).\n",
    "\n",
    "- The higher standard deviation in message count suggests a significant variation, where some Ultra users send very few messages while others send far more.\n",
    "\n",
    "- The median number of messages is higher among Ultra users, showing that even the typical Ultra user sends more messages than the average Smart user.\n",
    "\n",
    "- Ultra users consume notably more mobile data on average (19,468.82 MB vs. 16,208.47 MB).\n",
    "\n",
    "- The variation in data usage is significantly higher among Ultra users, with some consuming much larger amounts of data than others.\n",
    "\n",
    "- The median data usage is also higher for Ultra users, confirming that they generally use more data than Smart users."
   ]
  },
  {
   "cell_type": "markdown",
   "id": "01226058",
   "metadata": {},
   "source": [
    "The Ultra plan seems to cater to users with greater needs for calls, messaging, and data. The considerable variation in usage among Ultra users implies that the plan offers flexibility, appealing to both heavy and moderate users. On the other hand, the Smart plan is better suited for users with more stable and typically lower usage requirements."
   ]
  },
  {
   "cell_type": "markdown",
   "id": "5bda565f",
   "metadata": {},
   "source": [
    "This analysis can guide marketing strategies, such as tailoring campaigns to different user segments based on their usage behaviors or modifying pricing and features to more effectively address the needs of each group."
   ]
  },
  {
   "cell_type": "markdown",
   "id": "448da7d2",
   "metadata": {},
   "source": [
    "#### Correlation Matrix"
   ]
  },
  {
   "cell_type": "code",
   "execution_count": 6,
   "id": "2914e576",
   "metadata": {},
   "outputs": [
    {
     "data": {
      "image/png": "[encoded data removed]",
      "text/plain": [
       "<Figure size 640x480 with 2 Axes>"
      ]
     },
     "metadata": {},
     "output_type": "display_data"
    }
   ],
   "source": [
    "#calculating correlation matrix\n",
    "correlation_matrix = usersbhv.corr()\n",
    "\n",
    "# visualize the correlation matrix using a heatmap\n",
    "sns.heatmap(correlation_matrix, annot = True, cmap = 'coolwarm')\n",
    "plt.show()"
   ]
  },
  {
   "cell_type": "markdown",
   "id": "f13d964b",
   "metadata": {},
   "source": [
    "The heatmap above illustrates the correlation matrix between the variables: calls, minutes, messages, mb_used, and is_ultra. The color intensity represents the correlation strength, ranging from red (strong positive correlation) to blue (strong negative correlation).\n",
    "\n",
    "Calls and minutes display a very strong positive correlation, shown by the deep red color. This suggests that users who make more calls are likely to spend more time on the phone.\n",
    "Messages and minutes exhibit a moderate positive correlation, indicating that users who send more messages generally also have longer call durations.\n",
    "\n",
    "There is a moderate positive correlation between mb_used and minutes, suggesting that users who consume more data also tend to spend more time on calls.\n",
    "\n",
    "The relationships between calls, minutes, messages, mb_used, and is_ultra are relatively weak, as reflected by the lighter colors. This indicates that these variables do not have a strong impact on data usage or subscription to the Ultra plan.\n"
   ]
  },
  {
   "cell_type": "markdown",
   "id": "2d22a293",
   "metadata": {},
   "source": [
    "<h2>Step 2. Data preparation and Model selection</h2>"
   ]
  },
  {
   "cell_type": "markdown",
   "id": "6dc6e659",
   "metadata": {},
   "source": [
    "### 2.1. Splitting data and Selecting model"
   ]
  },
  {
   "cell_type": "markdown",
   "id": "64bb672f",
   "metadata": {},
   "source": [
    "#### Dataset dividing into three parts: training (60%), validation (20%), and test sets (20%)\n",
    "Splitting as 60% training, 20% validation, and 20% test to balance sufficient training data with reliable validation/testing."
   ]
  },
  {
   "cell_type": "code",
   "execution_count": 7,
   "id": "5e997f14",
   "metadata": {},
   "outputs": [
    {
     "data": {
      "text/plain": [
       "{'Training Set': 1928, 'Validation Set': 643, 'Test Set': 643}"
      ]
     },
     "execution_count": 7,
     "metadata": {},
     "output_type": "execute_result"
    }
   ],
   "source": [
    "#splitting features and target\n",
    "X = usersbhv.drop(columns=['is_ultra'])\n",
    "y = usersbhv['is_ultra']\n",
    "\n",
    "#train (60%), validation (20%), and test (20%) splitting\n",
    "X_train, X_temp, y_train, y_temp = train_test_split(X, y, test_size=0.4, random_state=42, stratify=y)\n",
    "X_valid, X_test, y_valid, y_test = train_test_split(X_temp, y_temp, test_size=0.5, random_state=42, stratify=y_temp)\n",
    "\n",
    "#displaying the sizes of the splits\n",
    "split_sizes = {\n",
    "    \"Training Set\": len(X_train),\n",
    "    \"Validation Set\": len(X_valid),\n",
    "    \"Test Set\": len(X_test)\n",
    "}\n",
    "\n",
    "split_sizes"
   ]
  },
  {
   "cell_type": "markdown",
   "id": "aa656cca",
   "metadata": {},
   "source": [
    "#### Selecting model with best accuracy\n",
    "Between Logistic Regression, Decision Tree and Random Forest"
   ]
  },
  {
   "cell_type": "code",
   "execution_count": 8,
   "id": "69a158e6",
   "metadata": {},
   "outputs": [
    {
     "data": {
      "text/plain": [
       "{'Logistic Regression': 0.7045101088646968,\n",
       " 'Decision Tree': 0.7465007776049767,\n",
       " 'Random Forest': 0.8009331259720062}"
      ]
     },
     "execution_count": 8,
     "metadata": {},
     "output_type": "execute_result"
    }
   ],
   "source": [
    "#defining models to evaluate\n",
    "models = {\n",
    "    \"Logistic Regression\": LogisticRegression(random_state=42, max_iter=1000),\n",
    "    \"Decision Tree\": DecisionTreeClassifier(random_state=42),\n",
    "    \"Random Forest\": RandomForestClassifier(random_state=42, n_estimators=100)\n",
    "}\n",
    "\n",
    "#training and evaluating models on the validation set\n",
    "model_results = {}\n",
    "for model_name, model in models.items():\n",
    "    #training the model\n",
    "    model.fit(X_train, y_train)\n",
    "    #predicting on the validation set\n",
    "    y_valid_pred = model.predict(X_valid)\n",
    "    #calculating accuracy\n",
    "    accuracy = accuracy_score(y_valid, y_valid_pred)\n",
    "    model_results[model_name] = accuracy\n",
    "\n",
    "model_results"
   ]
  },
  {
   "cell_type": "markdown",
   "id": "eb6c493a",
   "metadata": {},
   "source": [
    "#### Model Comparison Results\n",
    "\n",
    "#### The models achieved accuracy on the validation set:\n",
    "- `Logistic Regression`: 70.45%\n",
    "\n",
    "- `Decision Tree`: 74.65%\n",
    "\n",
    "- `Random Forest`: 80.09%"
   ]
  },
  {
   "cell_type": "markdown",
   "id": "d2a5baff",
   "metadata": {},
   "source": [
    "After training the models on the training set and evaluating their accuracy on the validation set, the Random Forest model was chosen for further optimization using GridSearchCV due to its superior initial performance."
   ]
  },
  {
   "cell_type": "markdown",
   "id": "bab57bfc",
   "metadata": {},
   "source": [
    "### 2.2. Optimizing model using hyperparameter tuning"
   ]
  },
  {
   "cell_type": "markdown",
   "id": "9cf01ebd",
   "metadata": {},
   "source": [
    "#### Searching and tuning hyperparameters to achieve better accuracy using GridSearchCV\n",
    "- `n_estimators` - number of trees in the forest.\n",
    "- `max_depth` - maximum depth of each tree.\n",
    "- `min_samples_split` - minimum samples required to split a node.\n",
    "- `min_samples_leaf` - minimum samples required to be at a leaf node."
   ]
  },
  {
   "cell_type": "markdown",
   "id": "73d497d2",
   "metadata": {},
   "source": [
    "While defining parameter grid these exact values were chosen in terms of balance thorough exploration with efficiency. It tests key parameters like tree size `(n_estimators)`, `depth (max_depth)`, and `split constraints (min_samples_split, min_samples_leaf)` to evaluate the trade-off between model complexity and generalization. Baseline values ensure default behaviors are tested, while moderated values promote simpler, more robust models. The grid ensures a comprehensive yet computationally efficient search for optimal hyperparameters."
   ]
  },
  {
   "cell_type": "code",
   "execution_count": 9,
   "id": "6b20b5ec",
   "metadata": {},
   "outputs": [
    {
     "name": "stdout",
     "output_type": "stream",
     "text": [
      "Fitting 3 folds for each of 81 candidates, totalling 243 fits\n"
     ]
    },
    {
     "data": {
      "text/plain": [
       "({'max_depth': 10,\n",
       "  'min_samples_leaf': 1,\n",
       "  'min_samples_split': 5,\n",
       "  'n_estimators': 50},\n",
       " 0.809124221385671)"
      ]
     },
     "execution_count": 9,
     "metadata": {},
     "output_type": "execute_result"
    }
   ],
   "source": [
    "#defining the parameter grid for hyperparameter tuning\n",
    "param_grid = {\n",
    "    \"n_estimators\": [50, 100, 150],\n",
    "    \"max_depth\": [10, 20, None],\n",
    "    \"min_samples_split\": [2, 5, 10],\n",
    "    \"min_samples_leaf\": [1, 2, 4]\n",
    "}\n",
    "\n",
    "#initializing the Random Forest model\n",
    "rf_model = RandomForestClassifier(random_state=42)\n",
    "\n",
    "#initializing GridSearchCV for hyperparameter tuning\n",
    "grid_search = GridSearchCV(\n",
    "    estimator=rf_model, param_grid=param_grid, cv=3, scoring=\"accuracy\", verbose=1, n_jobs=-1\n",
    ")\n",
    "\n",
    "#performing hyperparameter tuning on the training set\n",
    "grid_search.fit(X_train, y_train)\n",
    "\n",
    "#extracting the best hyperparameters and the corresponding accuracy\n",
    "best_params = grid_search.best_params_\n",
    "best_score = grid_search.best_score_\n",
    "\n",
    "best_params, best_score"
   ]
  },
  {
   "cell_type": "markdown",
   "id": "7d515690",
   "metadata": {},
   "source": [
    "#### The best hyperparameters for the Random Forest model are:\n",
    "- `max_depth`: 10\n",
    "\n",
    "- `min_samples_leaf`: 1\n",
    "\n",
    "- `min_samples_split`: 5\n",
    "\n",
    "- `n_estimators`: 50\n",
    "#### The cross-validation accuracy for this configuration is 80.91%."
   ]
  },
  {
   "cell_type": "markdown",
   "id": "34600b93",
   "metadata": {},
   "source": [
    "#### Retraining and evaluating optimized Random Forest model using these hyperparameters on the training set."
   ]
  },
  {
   "cell_type": "code",
   "execution_count": 10,
   "id": "030d91e0",
   "metadata": {},
   "outputs": [
    {
     "data": {
      "text/plain": [
       "0.8149300155520995"
      ]
     },
     "execution_count": 10,
     "metadata": {},
     "output_type": "execute_result"
    }
   ],
   "source": [
    "#training the optimized Random Forest model with the best hyperparameters\n",
    "optimized_rf_model = RandomForestClassifier(\n",
    "    random_state=42,\n",
    "    max_depth=10,\n",
    "    min_samples_leaf=1,\n",
    "    min_samples_split=5,\n",
    "    n_estimators=50\n",
    ")\n",
    "\n",
    "#training the model on the training set\n",
    "optimized_rf_model.fit(X_train, y_train)\n",
    "\n",
    "#predicting on the test set\n",
    "y_test_pred_optimized = optimized_rf_model.predict(X_test)\n",
    "\n",
    "#calculating accuracy on the test set\n",
    "optimized_test_accuracy = accuracy_score(y_test, y_test_pred_optimized)\n",
    "\n",
    "optimized_test_accuracy"
   ]
  },
  {
   "cell_type": "markdown",
   "id": "944508f6",
   "metadata": {},
   "source": [
    "#### The optimized Random Forest model achieved an accuracy of 81.49% on the test set."
   ]
  },
  {
   "cell_type": "markdown",
   "id": "44f50abd",
   "metadata": {},
   "source": [
    "### Summary of Step 2"
   ]
  },
  {
   "cell_type": "markdown",
   "id": "29d0bd96",
   "metadata": {},
   "source": [
    "- To evaluate the quality of different models three algorithms were compared: Logistic Regression, Decision Tree, and Random Forest. Each model was trained on the training dataset and evaluated on the validation set using accuracy as the metric. The Random Forest model outperformed the others with a validation accuracy of 80.09% in its default configuration."
   ]
  },
  {
   "cell_type": "markdown",
   "id": "ebe1cdc6",
   "metadata": {},
   "source": [
    "- `GridSearchCV` was used to systematically tune the hyperparameters of the Random Forest model. The parameters tuned included the `number of trees (n_estimators)`, `maximum tree depth (max_depth)`, `minimum samples required to split a node (min_samples_split)`, and `minimum samples required to be at a leaf node (min_samples_leaf)`. After testing various combinations with cross-validation, the optimal hyperparameters were identified as `n_estimators = 50`, `max_depth = 10`, `min_samples_split = 5`, and `min_samples_leaf = 1`. This tuning process improved the cross-validation accuracy to 80.91%"
   ]
  },
  {
   "cell_type": "markdown",
   "id": "8dd7b8c0",
   "metadata": {},
   "source": [
    "- Through this process it was confirmed that Random Forest is the best-performing model for this dataset, and its optimized configuration was used for final testing on the test set and achieved accuracy of 81.49% which exceeded threshold of 75%."
   ]
  },
  {
   "cell_type": "markdown",
   "id": "4df22746",
   "metadata": {},
   "source": [
    "## Step 3. Model Sanity check"
   ]
  },
  {
   "cell_type": "markdown",
   "id": "cbceba71",
   "metadata": {},
   "source": [
    "### 3.1. Random input testing\n",
    "Providing model with randomly generated data to observe its predictions. Ensures the model doesn’t make confident predictions for unrealistic data."
   ]
  },
  {
   "cell_type": "code",
   "execution_count": 11,
   "id": "6a86a51a",
   "metadata": {},
   "outputs": [
    {
     "data": {
      "text/html": [
       "<div>\n",
       "<style scoped>\n",
       "    .dataframe tbody tr th:only-of-type {\n",
       "        vertical-align: middle;\n",
       "    }\n",
       "\n",
       "    .dataframe tbody tr th {\n",
       "        vertical-align: top;\n",
       "    }\n",
       "\n",
       "    .dataframe thead th {\n",
       "        text-align: right;\n",
       "    }\n",
       "</style>\n",
       "<table border=\"1\" class=\"dataframe\">\n",
       "  <thead>\n",
       "    <tr style=\"text-align: right;\">\n",
       "      <th></th>\n",
       "      <th>calls</th>\n",
       "      <th>minutes</th>\n",
       "      <th>messages</th>\n",
       "      <th>mb_used</th>\n",
       "      <th>Predicted Plan</th>\n",
       "    </tr>\n",
       "  </thead>\n",
       "  <tbody>\n",
       "    <tr>\n",
       "      <th>0</th>\n",
       "      <td>73</td>\n",
       "      <td>764.561266</td>\n",
       "      <td>24</td>\n",
       "      <td>2578.806517</td>\n",
       "      <td>1</td>\n",
       "    </tr>\n",
       "    <tr>\n",
       "      <th>1</th>\n",
       "      <td>218</td>\n",
       "      <td>263.379638</td>\n",
       "      <td>228</td>\n",
       "      <td>35796.031143</td>\n",
       "      <td>1</td>\n",
       "    </tr>\n",
       "    <tr>\n",
       "      <th>2</th>\n",
       "      <td>79</td>\n",
       "      <td>913.726951</td>\n",
       "      <td>211</td>\n",
       "      <td>6077.461947</td>\n",
       "      <td>1</td>\n",
       "    </tr>\n",
       "    <tr>\n",
       "      <th>3</th>\n",
       "      <td>193</td>\n",
       "      <td>312.322815</td>\n",
       "      <td>66</td>\n",
       "      <td>25930.228859</td>\n",
       "      <td>0</td>\n",
       "    </tr>\n",
       "    <tr>\n",
       "      <th>4</th>\n",
       "      <td>168</td>\n",
       "      <td>414.728489</td>\n",
       "      <td>221</td>\n",
       "      <td>26647.904791</td>\n",
       "      <td>1</td>\n",
       "    </tr>\n",
       "    <tr>\n",
       "      <th>5</th>\n",
       "      <td>77</td>\n",
       "      <td>681.310961</td>\n",
       "      <td>127</td>\n",
       "      <td>35974.036881</td>\n",
       "      <td>1</td>\n",
       "    </tr>\n",
       "    <tr>\n",
       "      <th>6</th>\n",
       "      <td>1</td>\n",
       "      <td>1086.454907</td>\n",
       "      <td>12</td>\n",
       "      <td>11699.458346</td>\n",
       "      <td>0</td>\n",
       "    </tr>\n",
       "    <tr>\n",
       "      <th>7</th>\n",
       "      <td>175</td>\n",
       "      <td>1197.420466</td>\n",
       "      <td>198</td>\n",
       "      <td>38347.317860</td>\n",
       "      <td>1</td>\n",
       "    </tr>\n",
       "    <tr>\n",
       "      <th>8</th>\n",
       "      <td>169</td>\n",
       "      <td>614.787614</td>\n",
       "      <td>213</td>\n",
       "      <td>7448.388993</td>\n",
       "      <td>1</td>\n",
       "    </tr>\n",
       "    <tr>\n",
       "      <th>9</th>\n",
       "      <td>99</td>\n",
       "      <td>767.361271</td>\n",
       "      <td>15</td>\n",
       "      <td>30802.453311</td>\n",
       "      <td>1</td>\n",
       "    </tr>\n",
       "  </tbody>\n",
       "</table>\n",
       "</div>"
      ],
      "text/plain": [
       "   calls      minutes  messages       mb_used  Predicted Plan\n",
       "0     73   764.561266        24   2578.806517               1\n",
       "1    218   263.379638       228  35796.031143               1\n",
       "2     79   913.726951       211   6077.461947               1\n",
       "3    193   312.322815        66  25930.228859               0\n",
       "4    168   414.728489       221  26647.904791               1\n",
       "5     77   681.310961       127  35974.036881               1\n",
       "6      1  1086.454907        12  11699.458346               0\n",
       "7    175  1197.420466       198  38347.317860               1\n",
       "8    169   614.787614       213   7448.388993               1\n",
       "9     99   767.361271        15  30802.453311               1"
      ]
     },
     "execution_count": 11,
     "metadata": {},
     "output_type": "execute_result"
    }
   ],
   "source": [
    "#generating data with the same feature ranges\n",
    "random_data = pd.DataFrame({\n",
    "    'calls': np.random.randint(0, 250, 10),  #calls range: 0-244\n",
    "    'minutes': np.random.uniform(0, 1650, 10),  #minutes range: 0-1632\n",
    "    'messages': np.random.randint(0, 230, 10),  #messages range: 0-224\n",
    "    'mb_used': np.random.uniform(0, 50000, 10)  #MB used range: 0-49745\n",
    "})\n",
    "\n",
    "#predicting on the random data\n",
    "random_predictions = optimized_rf_model.predict(random_data)\n",
    "\n",
    "#combining the random data and predictions for review\n",
    "random_test_results = random_data.copy()\n",
    "random_test_results['Predicted Plan'] = random_predictions\n",
    "\n",
    "random_test_results"
   ]
  },
  {
   "cell_type": "markdown",
   "id": "5e7b7cf7",
   "metadata": {},
   "source": [
    "- The model predicts most randomly generated inputs as Ultra (Plan 1), indicating higher thresholds for features like `calls`, `minutes`, or `mb_used`.\n",
    "- An outlier input (e.g., low calls and minutes, moderate MB usage) was predicted as Smart."
   ]
  },
  {
   "cell_type": "markdown",
   "id": "798392bc",
   "metadata": {},
   "source": [
    "### 3.2. Edge case testing\n",
    "Test with extreme values for features (e.g., very high or very low usage). Ensures the model handles edge cases logically."
   ]
  },
  {
   "cell_type": "code",
   "execution_count": 12,
   "id": "ae8fe76c",
   "metadata": {},
   "outputs": [
    {
     "data": {
      "text/html": [
       "<div>\n",
       "<style scoped>\n",
       "    .dataframe tbody tr th:only-of-type {\n",
       "        vertical-align: middle;\n",
       "    }\n",
       "\n",
       "    .dataframe tbody tr th {\n",
       "        vertical-align: top;\n",
       "    }\n",
       "\n",
       "    .dataframe thead th {\n",
       "        text-align: right;\n",
       "    }\n",
       "</style>\n",
       "<table border=\"1\" class=\"dataframe\">\n",
       "  <thead>\n",
       "    <tr style=\"text-align: right;\">\n",
       "      <th></th>\n",
       "      <th>calls</th>\n",
       "      <th>minutes</th>\n",
       "      <th>messages</th>\n",
       "      <th>mb_used</th>\n",
       "      <th>Predicted Plan</th>\n",
       "    </tr>\n",
       "  </thead>\n",
       "  <tbody>\n",
       "    <tr>\n",
       "      <th>0</th>\n",
       "      <td>0</td>\n",
       "      <td>0</td>\n",
       "      <td>0</td>\n",
       "      <td>0</td>\n",
       "      <td>1</td>\n",
       "    </tr>\n",
       "    <tr>\n",
       "      <th>1</th>\n",
       "      <td>250</td>\n",
       "      <td>1650</td>\n",
       "      <td>224</td>\n",
       "      <td>50000</td>\n",
       "      <td>1</td>\n",
       "    </tr>\n",
       "  </tbody>\n",
       "</table>\n",
       "</div>"
      ],
      "text/plain": [
       "   calls  minutes  messages  mb_used  Predicted Plan\n",
       "0      0        0         0        0               1\n",
       "1    250     1650       224    50000               1"
      ]
     },
     "execution_count": 12,
     "metadata": {},
     "output_type": "execute_result"
    }
   ],
   "source": [
    "#extreme values for testing\n",
    "edge_case_data = pd.DataFrame({\n",
    "    'calls': [0, 250],  #min and max calls\n",
    "    'minutes': [0, 1650],  #min and max minutes\n",
    "    'messages': [0, 224],  #min and max messages\n",
    "    'mb_used': [0, 50000]  #min and max MB used\n",
    "})\n",
    "\n",
    "#predicting on the edge case data\n",
    "edge_case_predictions = optimized_rf_model.predict(edge_case_data)\n",
    "\n",
    "#combining the edge case data and predictions for review\n",
    "edge_case_results = edge_case_data.copy()\n",
    "edge_case_results['Predicted Plan'] = edge_case_predictions\n",
    "\n",
    "edge_case_results"
   ]
  },
  {
   "cell_type": "markdown",
   "id": "def18725",
   "metadata": {},
   "source": [
    "- High values across all features (calls, minutes, messages, mb_used) predict the Ultra plan as expected, aligning with the logical assumption that heavy usage corresponds to Ultra.\n",
    "- Even with minimal usage across all features (calls, minutes, messages, mb_used = 0), the model predicts the Ultra plan. This suggests the model might not properly handle very low feature values."
   ]
  },
  {
   "cell_type": "markdown",
   "id": "a3cb56e2",
   "metadata": {},
   "source": [
    "### 3.3 Sensitivity testing\n",
    "Slightly vary the input data to check if the predictions change drastically. Ensures the model is not overly sensitive to minor variations."
   ]
  },
  {
   "cell_type": "code",
   "execution_count": 13,
   "id": "23497176",
   "metadata": {},
   "outputs": [
    {
     "data": {
      "text/html": [
       "<div>\n",
       "<style scoped>\n",
       "    .dataframe tbody tr th:only-of-type {\n",
       "        vertical-align: middle;\n",
       "    }\n",
       "\n",
       "    .dataframe tbody tr th {\n",
       "        vertical-align: top;\n",
       "    }\n",
       "\n",
       "    .dataframe thead th {\n",
       "        text-align: right;\n",
       "    }\n",
       "</style>\n",
       "<table border=\"1\" class=\"dataframe\">\n",
       "  <thead>\n",
       "    <tr style=\"text-align: right;\">\n",
       "      <th></th>\n",
       "      <th>calls</th>\n",
       "      <th>minutes</th>\n",
       "      <th>messages</th>\n",
       "      <th>mb_used</th>\n",
       "      <th>Predicted Plan</th>\n",
       "    </tr>\n",
       "  </thead>\n",
       "  <tbody>\n",
       "    <tr>\n",
       "      <th>0</th>\n",
       "      <td>50</td>\n",
       "      <td>0.000000</td>\n",
       "      <td>50</td>\n",
       "      <td>10000</td>\n",
       "      <td>1</td>\n",
       "    </tr>\n",
       "    <tr>\n",
       "      <th>1</th>\n",
       "      <td>50</td>\n",
       "      <td>183.333333</td>\n",
       "      <td>50</td>\n",
       "      <td>10000</td>\n",
       "      <td>0</td>\n",
       "    </tr>\n",
       "    <tr>\n",
       "      <th>2</th>\n",
       "      <td>50</td>\n",
       "      <td>366.666667</td>\n",
       "      <td>50</td>\n",
       "      <td>10000</td>\n",
       "      <td>0</td>\n",
       "    </tr>\n",
       "    <tr>\n",
       "      <th>3</th>\n",
       "      <td>50</td>\n",
       "      <td>550.000000</td>\n",
       "      <td>50</td>\n",
       "      <td>10000</td>\n",
       "      <td>0</td>\n",
       "    </tr>\n",
       "    <tr>\n",
       "      <th>4</th>\n",
       "      <td>50</td>\n",
       "      <td>733.333333</td>\n",
       "      <td>50</td>\n",
       "      <td>10000</td>\n",
       "      <td>1</td>\n",
       "    </tr>\n",
       "    <tr>\n",
       "      <th>5</th>\n",
       "      <td>50</td>\n",
       "      <td>916.666667</td>\n",
       "      <td>50</td>\n",
       "      <td>10000</td>\n",
       "      <td>1</td>\n",
       "    </tr>\n",
       "    <tr>\n",
       "      <th>6</th>\n",
       "      <td>50</td>\n",
       "      <td>1100.000000</td>\n",
       "      <td>50</td>\n",
       "      <td>10000</td>\n",
       "      <td>1</td>\n",
       "    </tr>\n",
       "    <tr>\n",
       "      <th>7</th>\n",
       "      <td>50</td>\n",
       "      <td>1283.333333</td>\n",
       "      <td>50</td>\n",
       "      <td>10000</td>\n",
       "      <td>1</td>\n",
       "    </tr>\n",
       "    <tr>\n",
       "      <th>8</th>\n",
       "      <td>50</td>\n",
       "      <td>1466.666667</td>\n",
       "      <td>50</td>\n",
       "      <td>10000</td>\n",
       "      <td>1</td>\n",
       "    </tr>\n",
       "    <tr>\n",
       "      <th>9</th>\n",
       "      <td>50</td>\n",
       "      <td>1650.000000</td>\n",
       "      <td>50</td>\n",
       "      <td>10000</td>\n",
       "      <td>1</td>\n",
       "    </tr>\n",
       "  </tbody>\n",
       "</table>\n",
       "</div>"
      ],
      "text/plain": [
       "   calls      minutes  messages  mb_used  Predicted Plan\n",
       "0     50     0.000000        50    10000               1\n",
       "1     50   183.333333        50    10000               0\n",
       "2     50   366.666667        50    10000               0\n",
       "3     50   550.000000        50    10000               0\n",
       "4     50   733.333333        50    10000               1\n",
       "5     50   916.666667        50    10000               1\n",
       "6     50  1100.000000        50    10000               1\n",
       "7     50  1283.333333        50    10000               1\n",
       "8     50  1466.666667        50    10000               1\n",
       "9     50  1650.000000        50    10000               1"
      ]
     },
     "execution_count": 13,
     "metadata": {},
     "output_type": "execute_result"
    }
   ],
   "source": [
    "#varying a single feature while keeping others constant\n",
    "sensitivity_data = pd.DataFrame({\n",
    "    'calls': [50] * 10,  #constant value for calls\n",
    "    'minutes': np.linspace(0, 1650, 10),  #varying minutes\n",
    "    'messages': [50] * 10,  #constant value for messages\n",
    "    'mb_used': [10000] * 10  #constant value for MB used\n",
    "})\n",
    "\n",
    "#predicting on the sensitivity test data\n",
    "sensitivity_predictions = optimized_rf_model.predict(sensitivity_data)\n",
    "\n",
    "#combining the sensitivity test data and predictions for review\n",
    "sensitivity_results = sensitivity_data.copy()\n",
    "sensitivity_results['Predicted Plan'] = sensitivity_predictions\n",
    "\n",
    "sensitivity_results"
   ]
  },
  {
   "cell_type": "markdown",
   "id": "0af3a157",
   "metadata": {},
   "source": [
    "- The model predicts Smart (Plan 0) for moderate usage (minutes ~183–550) but switches to Ultra (Plan 1) as minutes exceed ~733. This indicates the model is sensitive to changes in minutes and adjusts its predictions logically.\n",
    "- The predictions transition smoothly without abrupt changes, which suggests the model’s response is reasonable."
   ]
  },
  {
   "cell_type": "markdown",
   "id": "19b04891",
   "metadata": {},
   "source": [
    "## Conclusion"
   ]
  },
  {
   "cell_type": "markdown",
   "id": "c1738da2",
   "metadata": {},
   "source": [
    "- The goal of this project was to develop a model to recommend one of two mobile plans, Smart or Ultra, based on user behavior. After evaluating multiple models, including Logistic Regression, Decision Tree, and Random Forest, the Random Forest model was selected for its superior performance."
   ]
  },
  {
   "cell_type": "markdown",
   "id": "da887cf2",
   "metadata": {},
   "source": [
    "- Through hyperparameter tuning using `GridSearchCV`, the model achieved a cross-validation accuracy of 80.91%. When tested on unseen data, the optimized model delivered a test accuracy of 81.49%, exceeding the target threshold of 75%."
   ]
  },
  {
   "cell_type": "markdown",
   "id": "39c57767",
   "metadata": {},
   "source": [
    "- Sanity checks confirmed that the model behaves logically in most scenarios, though improvements may be needed to handle edge cases like extreme low usage. Overall, the project successfully met its objectives, providing a robust solution for recommending mobile plans."
   ]
  }
 ],
 "metadata": {
  "kernelspec": {
   "display_name": "Python 3 (ipykernel)",
   "language": "python",
   "name": "python3"
  },
  "language_info": {
   "codemirror_mode": {
    "name": "ipython",
    "version": 3
   },
   "file_extension": ".py",
   "mimetype": "text/x-python",
   "name": "python",
   "nbconvert_exporter": "python",
   "pygments_lexer": "ipython3",
   "version": "3.11.7"
  }
 },
 "nbformat": 4,
 "nbformat_minor": 5
}
